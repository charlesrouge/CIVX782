{
 "cells": [
  {
   "cell_type": "markdown",
   "metadata": {},
   "source": [
    "# Data Analysis using Pandas"
   ]
  },
  {
   "cell_type": "markdown",
   "metadata": {},
   "source": [
    "\n",
    "### What is Pandas?\n",
    "- Pandas is an extremely popular library for data analysis - you can generally think of it as an Excel replacement.\n",
    "- Allows tabular data to be efficiently read, manipulated, and analysed\n",
    "- It is able to read and write data from various filetypes\n",
    "- Includes powerful methods to slice, reshape and mutate datasets\n",
    "- Provides relatively simple ways for dealing with dates/time and missing data\n",
    "\n",
    "### Why use Pandas?\n",
    "- As dataset are becoming bigger and more complex, tools such as pandas are becoming increasingly essential.\n",
    "- Anlysis using Python and Pandas is generally more transparent and easier to follow than that done in speadsheets.\n",
    "- It also encourage some seperation of data and analysis.\n",
    "- Easy to automate and apply to multiple datasets."
   ]
  },
  {
   "cell_type": "code",
   "execution_count": null,
   "metadata": {},
   "outputs": [],
   "source": [
    "import pandas as pd"
   ]
  },
  {
   "cell_type": "markdown",
   "metadata": {},
   "source": [
    "### Creating a Dataframe from spreadsheet data\n",
    ">* Pandas allows reading importing data from an Excel/csv file into a pandas DataFrame.\n",
    ">* We can read a CSV file with pandas by using `pd.read_csv`. Excel files can be read using `pd.read_excel`."
   ]
  },
  {
   "cell_type": "code",
   "execution_count": null,
   "metadata": {},
   "outputs": [],
   "source": [
    "filepath = r\"data\\Conowingo_data.xlsx\" # r is to treat all characters between the quotes as a raw string.\n",
    "                                  # Otherwise, special couples, such as \"\\n\", may be treated as a new line\n",
    "\n",
    "# Read specific extent (columns and rows) from a specific worksheet\n",
    "demand_df = pd.read_excel(filepath, \n",
    "                   sheet_name='Demands', # Specify the worksheet\n",
    "                   usecols=\"A:E\",        # Specify columns (e.g., columns A to E)\n",
    "                   skiprows=0,           # (Optional) Skip the first n row if necessary (skiprows=0 does not skip a row)\n",
    "                   nrows=12,             # (Optional) Read the first 12 rows after the first row (first row will be column titles)\n",
    "                   index_col=0)          # Dataframe index column (0 indicates the first column)\n",
    "demand_df"
   ]
  },
  {
   "cell_type": "code",
   "execution_count": null,
   "metadata": {},
   "outputs": [],
   "source": [
    "# Display only the first n rows of the dataframe\n",
    "demand_df.head(3)"
   ]
  },
  {
   "cell_type": "code",
   "execution_count": null,
   "metadata": {},
   "outputs": [],
   "source": [
    "# Display only the last n rows of the dataframe\n",
    "demand_df.tail(2)"
   ]
  },
  {
   "cell_type": "markdown",
   "metadata": {},
   "source": [
    "### Quyerying a DataFramme\n",
    "> * `DataFrame.index` will return information about the columns names\n",
    "* `DataFrame.columns` will also return row names of in the case, a list of the dates"
   ]
  },
  {
   "cell_type": "code",
   "execution_count": null,
   "metadata": {},
   "outputs": [],
   "source": [
    "print(demand_df.columns)\n",
    "print(\"----------\")\n",
    "print(demand_df.index)"
   ]
  },
  {
   "cell_type": "markdown",
   "metadata": {},
   "source": [
    "### Selecting values"
   ]
  },
  {
   "cell_type": "markdown",
   "metadata": {},
   "source": [
    "Referencing one column by using `DataFrame[name_of_column]`"
   ]
  },
  {
   "cell_type": "code",
   "execution_count": null,
   "metadata": {},
   "outputs": [],
   "source": [
    "demand_df[\"Peach Bottom Nuclear Power Plant (cfs)\"]"
   ]
  },
  {
   "cell_type": "markdown",
   "metadata": {},
   "source": [
    "Subsetting a DataFrame by using `DataFrame.loc`. This selection finds a value within the DataFrame below `df.loc[index, column]` where index and column are their **labels**."
   ]
  },
  {
   "cell_type": "code",
   "execution_count": null,
   "metadata": {},
   "outputs": [],
   "source": [
    "demand_df.loc[\"June\", \"Minimum environmental flows (cfs)\"]"
   ]
  },
  {
   "cell_type": "code",
   "execution_count": null,
   "metadata": {},
   "outputs": [],
   "source": [
    "# To display only number, use print command\n",
    "print(demand_df.loc[\"June\", \"Minimum environmental flows (cfs)\"])"
   ]
  },
  {
   "cell_type": "markdown",
   "metadata": {},
   "source": [
    "Use a : when you want to select all the values for either rows or columns"
   ]
  },
  {
   "cell_type": "code",
   "execution_count": null,
   "metadata": {},
   "outputs": [],
   "source": [
    "demand_df.loc[:, \"Minimum environmental flows (cfs)\"]"
   ]
  },
  {
   "cell_type": "code",
   "execution_count": null,
   "metadata": {},
   "outputs": [],
   "source": [
    "demand_df.loc[\"June\", :]"
   ]
  },
  {
   "cell_type": "markdown",
   "metadata": {},
   "source": [
    "Subsetting a DataFrame by using `DataFrame.iloc`. This selection finds a values as above but now index and column are instead their **positions**. Please note: In python, position indexing starts from 0."
   ]
  },
  {
   "cell_type": "code",
   "execution_count": null,
   "metadata": {},
   "outputs": [],
   "source": [
    "demand_df.iloc[6, 2]"
   ]
  },
  {
   "cell_type": "markdown",
   "metadata": {},
   "source": [
    "Subsetting a DataFrame with a range of criteria"
   ]
  },
  {
   "cell_type": "code",
   "execution_count": null,
   "metadata": {},
   "outputs": [],
   "source": [
    "demand_df.loc[\"March\":\"May\", \"Chester city (cfs)\":\"Peach Bottom Nuclear Power Plant (cfs)\"]"
   ]
  },
  {
   "cell_type": "code",
   "execution_count": null,
   "metadata": {},
   "outputs": [],
   "source": [
    "demand_df.loc[[\"November\", \"March\", \"August\", \"May\"], [\"Peach Bottom Nuclear Power Plant (cfs)\",\"Chester city (cfs)\"]]"
   ]
  },
  {
   "cell_type": "code",
   "execution_count": null,
   "metadata": {},
   "outputs": [],
   "source": [
    "demand_df.iloc[2:5, 1:3] # Display the slice of the dataframe from 3rd to 5th row and 2nd to 3rd column"
   ]
  },
  {
   "cell_type": "markdown",
   "metadata": {},
   "source": [
    "### Operations of Dataframes and Columns"
   ]
  },
  {
   "cell_type": "code",
   "execution_count": null,
   "metadata": {},
   "outputs": [],
   "source": [
    "# Create a deepcopy of the DataFrame. A deepcopied dataframe is totally independent from the original dataframe.\n",
    "demand_m3 = demand_df.copy()\n",
    "\n",
    "# Now, any changes to 'demand_m3' won't affect 'demand_df'"
   ]
  },
  {
   "cell_type": "code",
   "execution_count": null,
   "metadata": {},
   "outputs": [],
   "source": [
    "# Convert all values in the dataframe to metric system units: conversion from cfs to m3/s\n",
    "demand_m3 = demand_m3 * 0.3048**3\n",
    "\n",
    "# We need to also change \"cfs\" with \"m3/s\" in column headers\n",
    "demand_m3.columns = pd.Series(demand_m3.columns).replace('cfs', 'm3/s', regex=True)\n",
    "\n",
    "# What does that look like, rounded to the first decimal place?\n",
    "demand_m3.round(1)"
   ]
  },
  {
   "cell_type": "code",
   "execution_count": null,
   "metadata": {},
   "outputs": [],
   "source": [
    "# Calculate the sum of values across each row in the dataframe (for total monthly demand)\n",
    "# Calculated sum will be added as a new column to the copied dataframe\n",
    "demand_m3[\"Total Demand (m3/s)\"]  = demand_m3.sum(axis=1)\n",
    "demand_m3.round(1).head()"
   ]
  },
  {
   "cell_type": "code",
   "execution_count": null,
   "metadata": {},
   "outputs": [],
   "source": [
    "demand_m3[\"Total Potable Water Demand (m3/s)\"]  = demand_m3[\"Chester city (m3/s)\"] + demand_m3[\"Baltimore city (m3/s)\"]\n",
    "demand_m3.round(1).head()"
   ]
  },
  {
   "cell_type": "code",
   "execution_count": null,
   "metadata": {},
   "outputs": [],
   "source": [
    "# Calculate the average volumetric demand across each column, throughout the year\n",
    "annual_means = demand_m3.mean(axis=0)\n",
    "\n",
    "# Print the result\n",
    "print(annual_means.round(1))"
   ]
  },
  {
   "cell_type": "code",
   "execution_count": null,
   "metadata": {},
   "outputs": [],
   "source": [
    "annual_means[\"Total Demand (m3/s)\"].round(1)"
   ]
  },
  {
   "cell_type": "code",
   "execution_count": null,
   "metadata": {},
   "outputs": [],
   "source": [
    "# Calculate the percent contribution for each demand to the annual total demand\n",
    "percent_contribution = (annual_means.iloc[:4] / annual_means[\"Total Demand (m3/s)\"]) * 100\n",
    "\n",
    "# Print the result\n",
    "print(percent_contribution)"
   ]
  },
  {
   "cell_type": "markdown",
   "metadata": {},
   "source": [
    "# Remove a column"
   ]
  },
  {
   "cell_type": "code",
   "execution_count": null,
   "metadata": {},
   "outputs": [],
   "source": [
    "# Need to set axis=1 overwise drop will try to remove a row as the default is axis=0\n",
    "demand_m3 = demand_m3.drop(\"Total Potable Water Demand (m3/s)\", axis=1)\n",
    "demand_m3.round(1).head()"
   ]
  },
  {
   "cell_type": "code",
   "execution_count": null,
   "metadata": {},
   "outputs": [],
   "source": [
    "# Remove another column\n",
    "demand_m3 = demand_m3.drop(\"Total Demand (m3/s)\", axis=1)\n",
    "demand_m3.head()"
   ]
  },
  {
   "cell_type": "markdown",
   "metadata": {},
   "source": [
    "### Working with timeseries data\n",
    "- We often work with data with a temporal axis, pandas makes it easy to deal with this\n",
    "- We normally set the time-axis as the index\n",
    "- Control for reading in datasets, skip rows and columns \n",
    "\n",
    "### We can set date to be the index column and recognise this as a DateTimeIndex\n",
    " - Use `index_col` to set the column you want\n",
    " - The output of `read_csv` is a DataFrame"
   ]
  },
  {
   "cell_type": "code",
   "execution_count": null,
   "metadata": {},
   "outputs": [],
   "source": [
    "# Read specific extent (columns and rows) from a specific worksheet\n",
    "flow_df = pd.read_excel(filepath, \n",
    "                   sheet_name='Flow data', # Specify the worksheet\n",
    "                   index_col=0)            # Dataframe index column (0 indicates the 1st column)\n",
    "\n",
    "\n",
    "\n",
    "flow_df.head()"
   ]
  },
  {
   "cell_type": "code",
   "execution_count": null,
   "metadata": {},
   "outputs": [],
   "source": [
    "import matplotlib.pyplot as plt\n",
    "flow_df.loc[:,[\"Susquehanna River Inflow (cfs)\",\"Lateral Inflow (cfs)\"]].plot()\n",
    "plt.show()"
   ]
  },
  {
   "cell_type": "markdown",
   "metadata": {},
   "source": [
    "Clearly river inflows to the reservoirs are the bulk of the total inflows. Let's have a new, total inflow column using SI units."
   ]
  },
  {
   "cell_type": "code",
   "execution_count": null,
   "metadata": {},
   "outputs": [],
   "source": [
    "flow_df['Total inflows (m3/s)'] = flow_df.sum(axis=1) * 0.3048**3\n",
    "\n",
    "flow_df.loc[:, ['Total inflows (m3/s)']].plot()"
   ]
  },
  {
   "cell_type": "code",
   "execution_count": null,
   "metadata": {},
   "outputs": [],
   "source": [
    "# Plot only a subset in the dataframe\n",
    "flow_df.loc[\"1991-3-1\":\"1991-5-31\",['Total inflows (m3/s)']].plot()\n",
    "plt.show()"
   ]
  },
  {
   "cell_type": "code",
   "execution_count": null,
   "metadata": {},
   "outputs": [],
   "source": [
    "# You can also customise the visuals if you want!\n",
    "import datetime\n",
    "\n",
    "def plot_flux(balance, flux_name, **kwargs):\n",
    "    \"\"\"\n",
    "    Plots daily timeseries of a water balance flow component over time. Arguments:\n",
    "        balance: a Pandas DataFrame containing the time series of the water flux to plot\n",
    "        flux_name: a string with the name of the flow component to plot\n",
    "        optional argument `first_date`: a datetime date to specify when to start plotting\n",
    "        optional argument `last_date`: a datetime date to specify when to stop plotting\n",
    "    Returns the matplotlib figure created, for plotting / saving, etc.\n",
    "    \"\"\"\n",
    "\n",
    "    # Optional arguments\n",
    "    first_date = kwargs.pop(\"first_date\", balance.index[0])\n",
    "    last_date = kwargs.pop('last_date', balance.index[-1])\n",
    "\n",
    "    fig = plt.figure()\n",
    "    ax = fig.add_subplot(1, 1, 1)\n",
    "    ax.plot(balance.index, balance[flux_name + ' (m3/s)'], c='b', linewidth=2)\n",
    "    ax.set_xlabel('Date', size=14)\n",
    "    ax.set_ylabel(flux_name + ' (m3/s)', size=14)\n",
    "    ax.set_xlim(first_date, last_date)\n",
    "    ax.set_ylim(0, balance.loc[first_date : last_date, flux_name + ' (m3/s)'].max() * 1.1)\n",
    "\n",
    "    return fig\n",
    "\n",
    "fig = plot_flux(flow_df, 'Total inflows', first_date=datetime.date(1964, 1, 1), last_date=datetime.date(1964,12,31))"
   ]
  },
  {
   "cell_type": "markdown",
   "metadata": {},
   "source": [
    "### Filter for values above a threshold"
   ]
  },
  {
   "cell_type": "code",
   "execution_count": null,
   "metadata": {},
   "outputs": [],
   "source": [
    "mask = flow_df['Total inflows (m3/s)'] > 500\n",
    "mask"
   ]
  },
  {
   "cell_type": "code",
   "execution_count": null,
   "metadata": {},
   "outputs": [],
   "source": [
    "flow_df[mask]"
   ]
  },
  {
   "cell_type": "markdown",
   "metadata": {},
   "source": [
    "# Resample a DataFrame using the datetime index"
   ]
  },
  {
   "cell_type": "code",
   "execution_count": null,
   "metadata": {},
   "outputs": [],
   "source": [
    "# Resample the dataframe into annual average flows\n",
    "flow_df['Total inflows (m3/s)'].resample(\"YE\").mean().plot()"
   ]
  },
  {
   "cell_type": "code",
   "execution_count": null,
   "metadata": {},
   "outputs": [],
   "source": [
    "# Resample the dataframe into monthly mean flow\n",
    "flow_df['Total inflows (m3/s)'].resample(\"1ME\").mean().plot()"
   ]
  },
  {
   "cell_type": "code",
   "execution_count": null,
   "metadata": {},
   "outputs": [],
   "source": [
    "import numpy as np\n",
    "\n",
    "# But what does that look like on average\n",
    "def compute_monthly_average(flows, variable_name):\n",
    "    \"\"\"\n",
    "    Computes monthly average inflows from a `flows` pandas DataFrame containing a 'Total inflows (m3/s)' column.\n",
    "    Output:\n",
    "    averages: a Numpy vector of size 12 for the 12 average monthly values\n",
    "    \"\"\"\n",
    "\n",
    "    # Initialise output\n",
    "    averages = np.zeros(12)\n",
    "\n",
    "    # Main loop to compute all 12 monthly averages\n",
    "    for month in np.arange(1, 13, 1):\n",
    "        monthly_mask = flows.index.month == month  # Select only values for the right month\n",
    "        averages[month - 1] = flows.loc[monthly_mask, variable_name].mean()  # Apply average operator\n",
    "\n",
    "    return averages\n",
    "\n",
    "\n",
    "# Plotting the figure\n",
    "def monthly_averages(flows, variable_name):\n",
    "    \"\"\"\n",
    "    Plot monthly average inflows from `flows` pandas DataFrame.\n",
    "    \"\"\"\n",
    "\n",
    "    # Get monthly average inflows\n",
    "    monthly_average = compute_monthly_average(flows, variable_name)\n",
    "\n",
    "    # Plot figure\n",
    "    fig = plt.figure()\n",
    "    ax = fig.add_subplot(1, 1, 1)\n",
    "    ax.plot(np.arange(1, 13, 1), monthly_average, c='b')\n",
    "    plt.xticks(ticks=np.arange(1, 13, 1), labels=['J', 'F', 'M', 'A', 'M', 'J', 'J', 'A', 'S', 'O', 'N', 'D'])\n",
    "    ax.set_xlabel('Month', size=14)\n",
    "    ax.set_ylabel('Average inflows (m3/s)', size=14)\n",
    "    ax.set_xlim(1, 12)\n",
    "\n",
    "    return fig\n",
    "\n",
    "fig = monthly_averages(flow_df, 'Total inflows (m3/s)')"
   ]
  },
  {
   "cell_type": "markdown",
   "metadata": {},
   "source": [
    "Did you notice we just introduced the numpy library?"
   ]
  },
  {
   "cell_type": "markdown",
   "metadata": {
    "slideshow": {
     "slide_type": "slide"
    }
   },
   "source": [
    "# What is numpy?\n",
    "- Numpy is a python library supporting the use of ***multi-dimensional arrays*** and ***simple mathematical functions***\n",
    "- Numpy is used to efficiently carry out various mathematical operations on large data structures\n",
    "- Open source with some minor restrictions (?)\n",
    "- The pandas library is built on top of numpy"
   ]
  },
  {
   "cell_type": "markdown",
   "metadata": {},
   "source": [
    "### What is an array?\n",
    "An array is a central data structure of the NumPy library. An array is a grid of values and it contains information about the raw data, how to locate an element, and how to interpret an element. It has a grid of elements that can be indexed in various ways. The elements are all of the same type, referred to as the array dtype.\n",
    "\n",
    "An array can be indexed by a tuple of nonnegative integers, by booleans, by another array, or by integers. The rank of the array is the number of dimensions. The shape of the array is a tuple of integers giving the size of the array along each dimension.\n",
    "\n",
    "One way we can initialize NumPy arrays is from Python lists, using nested lists for two- or higher-dimensional data.\n",
    "\n",
    "For example:"
   ]
  },
  {
   "cell_type": "code",
   "execution_count": null,
   "metadata": {},
   "outputs": [],
   "source": [
    "a = np.array([1, 2, 3, 4, 5, 6])\n",
    "print(a)"
   ]
  },
  {
   "cell_type": "code",
   "execution_count": null,
   "metadata": {},
   "outputs": [],
   "source": [
    "a2 = np.array([[1, 2, 3, 4], [5, 6, 7, 8], [9, 10, 11, 12]])\n",
    "print(a2)"
   ]
  },
  {
   "cell_type": "markdown",
   "metadata": {},
   "source": [
    "### Creating a DataFrame using a numpy array"
   ]
  },
  {
   "cell_type": "code",
   "execution_count": null,
   "metadata": {},
   "outputs": [],
   "source": [
    "columns = [\"Column 1\", \"Column 2\", \"Column 3\", \"Column 4\"]\n",
    "rows = [\"R1\", \"R2\", \"R3\"]\n",
    "df2 = pd.DataFrame(a2, columns=columns, index=rows)\n",
    "df2"
   ]
  },
  {
   "cell_type": "markdown",
   "metadata": {},
   "source": [
    "### Acessing the underlying numpy array of a Pandas DataFrame"
   ]
  },
  {
   "cell_type": "code",
   "execution_count": null,
   "metadata": {},
   "outputs": [],
   "source": [
    "demand_df.values"
   ]
  },
  {
   "cell_type": "code",
   "execution_count": null,
   "metadata": {},
   "outputs": [],
   "source": [
    "type(demand_df.values)"
   ]
  },
  {
   "cell_type": "markdown",
   "metadata": {},
   "source": [
    " - Numpy docs have more infomation on usage for beginners \n",
    " - https://numpy.org/devdocs/user/absolute_beginners.html"
   ]
  }
 ],
 "metadata": {
  "kernelspec": {
   "display_name": "civx782",
   "language": "python",
   "name": "civx782"
  },
  "language_info": {
   "codemirror_mode": {
    "name": "ipython",
    "version": 3
   },
   "file_extension": ".py",
   "mimetype": "text/x-python",
   "name": "python",
   "nbconvert_exporter": "python",
   "pygments_lexer": "ipython3",
   "version": "3.12.3"
  }
 },
 "nbformat": 4,
 "nbformat_minor": 4
}
